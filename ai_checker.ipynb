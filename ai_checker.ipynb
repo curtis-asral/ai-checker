{
 "cells": [
  {
   "cell_type": "code",
   "execution_count": null,
   "id": "fb067416",
   "metadata": {},
   "outputs": [],
   "source": [
    "# Create the dataset\n",
    "import pandas as pd"
   ]
  }
 ],
 "metadata": {
  "kernelspec": {
   "display_name": "venv",
   "language": "python",
   "name": "python3"
  },
  "language_info": {
   "name": "python",
   "version": "3.12.3"
  }
 },
 "nbformat": 4,
 "nbformat_minor": 5
}
